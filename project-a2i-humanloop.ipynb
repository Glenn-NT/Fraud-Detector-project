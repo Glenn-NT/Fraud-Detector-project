{
 "cells": [
  {
   "cell_type": "markdown",
   "id": "b9e8f4ee",
   "metadata": {},
   "source": [
    "## Human review with A2i\n"
   ]
  },
  {
   "cell_type": "markdown",
   "id": "5a2ab174",
   "metadata": {},
   "source": [
    "In this section we will implement a human review loop that will classify claims that fall within the uncertainty range."
   ]
  },
  {
   "cell_type": "markdown",
   "id": "12398049",
   "metadata": {},
   "source": [
    "# Setup\n",
    "first we will set up the dependencies."
   ]
  },
  {
   "cell_type": "code",
   "execution_count": 5,
   "id": "923876e9",
   "metadata": {},
   "outputs": [
    {
     "name": "stdout",
     "output_type": "stream",
     "text": [
      "Looking in indexes: https://pypi.org/simple, https://pip.repos.neuron.amazonaws.com\n",
      "Requirement already satisfied: pip in /home/ec2-user/anaconda3/envs/python3/lib/python3.10/site-packages (23.2.1)\n",
      "Looking in indexes: https://pypi.org/simple, https://pip.repos.neuron.amazonaws.com\n",
      "Requirement already satisfied: botocore in /home/ec2-user/anaconda3/envs/python3/lib/python3.10/site-packages (1.31.17)\n",
      "Collecting botocore\n",
      "  Obtaining dependency information for botocore from https://files.pythonhosted.org/packages/14/36/af5c6f6742773063d6729de739d331f5ed16a034a72242351868cc181e72/botocore-1.31.19-py3-none-any.whl.metadata\n",
      "  Downloading botocore-1.31.19-py3-none-any.whl.metadata (5.9 kB)\n",
      "Requirement already satisfied: jmespath<2.0.0,>=0.7.1 in /home/ec2-user/anaconda3/envs/python3/lib/python3.10/site-packages (from botocore) (1.0.1)\n",
      "Requirement already satisfied: python-dateutil<3.0.0,>=2.1 in /home/ec2-user/anaconda3/envs/python3/lib/python3.10/site-packages (from botocore) (2.8.2)\n",
      "Requirement already satisfied: urllib3<1.27,>=1.25.4 in /home/ec2-user/anaconda3/envs/python3/lib/python3.10/site-packages (from botocore) (1.26.14)\n",
      "Requirement already satisfied: six>=1.5 in /home/ec2-user/anaconda3/envs/python3/lib/python3.10/site-packages (from python-dateutil<3.0.0,>=2.1->botocore) (1.16.0)\n",
      "Downloading botocore-1.31.19-py3-none-any.whl (11.1 MB)\n",
      "\u001b[2K   \u001b[90m━━━━━━━━━━━━━━━━━━━━━━━━━━━━━━━━━━━━━━━━\u001b[0m \u001b[32m11.1/11.1 MB\u001b[0m \u001b[31m116.2 MB/s\u001b[0m eta \u001b[36m0:00:00\u001b[0m00:01\u001b[0m0:01\u001b[0m\n",
      "\u001b[?25hInstalling collected packages: botocore\n",
      "  Attempting uninstall: botocore\n",
      "    Found existing installation: botocore 1.31.17\n",
      "    Uninstalling botocore-1.31.17:\n",
      "      Successfully uninstalled botocore-1.31.17\n",
      "\u001b[31mERROR: pip's dependency resolver does not currently take into account all the packages that are installed. This behaviour is the source of the following dependency conflicts.\n",
      "awscli 1.27.157 requires botocore==1.29.157, but you have botocore 1.31.19 which is incompatible.\n",
      "sagemaker 2.167.0 requires PyYAML==6.0, but you have pyyaml 5.4.1 which is incompatible.\u001b[0m\u001b[31m\n",
      "\u001b[0mSuccessfully installed botocore-1.31.19\n",
      "Looking in indexes: https://pypi.org/simple, https://pip.repos.neuron.amazonaws.com\n",
      "Requirement already satisfied: boto3 in /home/ec2-user/anaconda3/envs/python3/lib/python3.10/site-packages (1.28.17)\n",
      "Collecting boto3\n",
      "  Obtaining dependency information for boto3 from https://files.pythonhosted.org/packages/51/85/48dc639c57cb1a25b1f7b3022d2ab982fd97156715cb11f50102cb5c551f/boto3-1.28.19-py3-none-any.whl.metadata\n",
      "  Downloading boto3-1.28.19-py3-none-any.whl.metadata (6.6 kB)\n",
      "Requirement already satisfied: botocore<1.32.0,>=1.31.19 in /home/ec2-user/anaconda3/envs/python3/lib/python3.10/site-packages (from boto3) (1.31.19)\n",
      "Requirement already satisfied: jmespath<2.0.0,>=0.7.1 in /home/ec2-user/anaconda3/envs/python3/lib/python3.10/site-packages (from boto3) (1.0.1)\n",
      "Requirement already satisfied: s3transfer<0.7.0,>=0.6.0 in /home/ec2-user/anaconda3/envs/python3/lib/python3.10/site-packages (from boto3) (0.6.1)\n",
      "Requirement already satisfied: python-dateutil<3.0.0,>=2.1 in /home/ec2-user/anaconda3/envs/python3/lib/python3.10/site-packages (from botocore<1.32.0,>=1.31.19->boto3) (2.8.2)\n",
      "Requirement already satisfied: urllib3<1.27,>=1.25.4 in /home/ec2-user/anaconda3/envs/python3/lib/python3.10/site-packages (from botocore<1.32.0,>=1.31.19->boto3) (1.26.14)\n",
      "Requirement already satisfied: six>=1.5 in /home/ec2-user/anaconda3/envs/python3/lib/python3.10/site-packages (from python-dateutil<3.0.0,>=2.1->botocore<1.32.0,>=1.31.19->boto3) (1.16.0)\n",
      "Downloading boto3-1.28.19-py3-none-any.whl (135 kB)\n",
      "\u001b[2K   \u001b[90m━━━━━━━━━━━━━━━━━━━━━━━━━━━━━━━━━━━━━━━━\u001b[0m \u001b[32m135.8/135.8 kB\u001b[0m \u001b[31m12.1 MB/s\u001b[0m eta \u001b[36m0:00:00\u001b[0m\n",
      "\u001b[?25hInstalling collected packages: boto3\n",
      "  Attempting uninstall: boto3\n",
      "    Found existing installation: boto3 1.28.17\n",
      "    Uninstalling boto3-1.28.17:\n",
      "      Successfully uninstalled boto3-1.28.17\n",
      "\u001b[31mERROR: pip's dependency resolver does not currently take into account all the packages that are installed. This behaviour is the source of the following dependency conflicts.\n",
      "sagemaker 2.167.0 requires PyYAML==6.0, but you have pyyaml 5.4.1 which is incompatible.\u001b[0m\u001b[31m\n",
      "\u001b[0mSuccessfully installed boto3-1.28.19\n",
      "Looking in indexes: https://pypi.org/simple, https://pip.repos.neuron.amazonaws.com\n",
      "Requirement already satisfied: botocore in /home/ec2-user/anaconda3/envs/python3/lib/python3.10/site-packages (1.31.19)\n",
      "Requirement already satisfied: jmespath<2.0.0,>=0.7.1 in /home/ec2-user/anaconda3/envs/python3/lib/python3.10/site-packages (from botocore) (1.0.1)\n",
      "Requirement already satisfied: python-dateutil<3.0.0,>=2.1 in /home/ec2-user/anaconda3/envs/python3/lib/python3.10/site-packages (from botocore) (2.8.2)\n",
      "Requirement already satisfied: urllib3<1.27,>=1.25.4 in /home/ec2-user/anaconda3/envs/python3/lib/python3.10/site-packages (from botocore) (1.26.14)\n",
      "Requirement already satisfied: six>=1.5 in /home/ec2-user/anaconda3/envs/python3/lib/python3.10/site-packages (from python-dateutil<3.0.0,>=2.1->botocore) (1.16.0)\n"
     ]
    }
   ],
   "source": [
    "# First, let's get the latest installations of our dependencies\n",
    "!pip install --upgrade pip\n",
    "!pip install botocore --upgrade\n",
    "!pip install boto3 --upgrade\n",
    "!pip install -U botocore"
   ]
  },
  {
   "cell_type": "markdown",
   "id": "e8ba70c5",
   "metadata": {},
   "source": []
  },
  {
   "cell_type": "code",
   "execution_count": 6,
   "id": "fca5c8fa",
   "metadata": {},
   "outputs": [
    {
     "data": {
      "text/plain": [
       "Session(region_name='us-east-2')"
      ]
     },
     "execution_count": 6,
     "metadata": {},
     "output_type": "execute_result"
    }
   ],
   "source": [
    "import boto3\n",
    "import botocore\n",
    "\n",
    "REGION = 'us-east-2'\n",
    "boto3.session.Session(REGION)"
   ]
  },
  {
   "cell_type": "code",
   "execution_count": 7,
   "id": "b5094d3f",
   "metadata": {},
   "outputs": [],
   "source": [
    "# Replace the following with your bucket name\n",
    "BUCKET = 'project-a2i-output'"
   ]
  },
  {
   "cell_type": "code",
   "execution_count": 8,
   "id": "0156f647",
   "metadata": {},
   "outputs": [],
   "source": [
    "# Amazon S3 (S3) client\n",
    "s3 = boto3.client('s3', REGION)\n",
    "bucket_region = s3.head_bucket(Bucket=BUCKET)['ResponseMetadata']['HTTPHeaders']['x-amz-bucket-region']\n",
    "assert bucket_region == REGION, \"Your S3 bucket {} and this notebook need to be in the same region.\".format(BUCKET)"
   ]
  },
  {
   "cell_type": "code",
   "execution_count": 9,
   "id": "acd5a7bc",
   "metadata": {},
   "outputs": [
    {
     "data": {
      "text/plain": [
       "'arn:aws:iam::767819814815:role/service-role/SageMaker-gmonieProject'"
      ]
     },
     "metadata": {},
     "output_type": "display_data"
    }
   ],
   "source": [
    "from sagemaker import get_execution_role\n",
    "\n",
    "# Setting Role to the default SageMaker Execution Role\n",
    "ROLE = get_execution_role()\n",
    "display(ROLE)"
   ]
  },
  {
   "cell_type": "markdown",
   "id": "5464c5f5",
   "metadata": {},
   "source": [
    "# create your Workteam in the console\n",
    "Once created enter work team ARN below."
   ]
  },
  {
   "cell_type": "code",
   "execution_count": 10,
   "id": "0cadab7e",
   "metadata": {},
   "outputs": [],
   "source": [
    "WORKTEAM_ARN = \"arn:aws:sagemaker:us-east-2:767819814815:workteam/private-crowd/fraudetection-team\""
   ]
  },
  {
   "cell_type": "markdown",
   "id": "a3147041",
   "metadata": {},
   "source": [
    "## setup client"
   ]
  },
  {
   "cell_type": "code",
   "execution_count": 11,
   "id": "09fdd0fc",
   "metadata": {},
   "outputs": [
    {
     "name": "stderr",
     "output_type": "stream",
     "text": [
      "/tmp/ipykernel_1882/2359204613.py:1: DeprecationWarning: Importing display from IPython.core.display is deprecated since IPython 7.14, please import from IPython display\n",
      "  from IPython.core.display import display, HTML\n"
     ]
    },
    {
     "data": {
      "text/html": [
       "<style>.container { width:90% }</style>"
      ],
      "text/plain": [
       "<IPython.core.display.HTML object>"
      ]
     },
     "metadata": {},
     "output_type": "display_data"
    }
   ],
   "source": [
    "from IPython.core.display import display, HTML\n",
    "from IPython.display import clear_output\n",
    "display(HTML(\"<style>.container { width:90% }</style>\"))\n",
    "# ------------------------------------------------------------------\n",
    "\n",
    "import numpy as np\n",
    "import matplotlib.pyplot as plt\n",
    "import pandas as pd\n",
    "pd.set_option('display.max_rows', 500)\n",
    "pd.set_option('display.max_columns', 500)\n",
    "pd.set_option('display.width', 1000)\n",
    "\n",
    "import os\n",
    "import sys\n",
    "import time\n",
    "import json\n",
    "import uuid \n",
    "from datetime import datetime\n",
    "import io\n",
    "\n",
    "# -- Client setup -- \n",
    "import boto3\n",
    "import sagemaker\n",
    "\n",
    "# -- sklearn --\n",
    "from sklearn.metrics import roc_curve, roc_auc_score, auc, roc_auc_score\n",
    "%matplotlib inline"
   ]
  },
  {
   "cell_type": "code",
   "execution_count": 12,
   "id": "43b85166",
   "metadata": {},
   "outputs": [],
   "source": [
    "import pprint\n",
    "\n",
    "# Pretty print setup\n",
    "pp = pprint.PrettyPrinter(indent=2)\n",
    "\n",
    "# Function to pretty-print AWS SDK responses\n",
    "def print_response(response):\n",
    "    if 'ResponseMetadata' in response:\n",
    "        del response['ResponseMetadata']\n",
    "    pp.pprint(response)"
   ]
  },
  {
   "cell_type": "code",
   "execution_count": 13,
   "id": "1eee03b9",
   "metadata": {},
   "outputs": [],
   "source": [
    "# Amazon SageMaker client\n",
    "sagemaker = boto3.client('sagemaker', REGION)\n",
    "\n",
    "\n",
    "# Amazon Augmented AI (A2I) Runtime client\n",
    "a2i_runtime_client = boto3.client('sagemaker-a2i-runtime', REGION)\n",
    "\n",
    "\n",
    "# -- initialize the Amazon Fraud Detector client \n",
    "client = boto3.client('frauddetector')"
   ]
  },
  {
   "cell_type": "markdown",
   "id": "ff6daef7",
   "metadata": {},
   "source": [
    "## Setup Fraudetector\n",
    "\n",
    "After creating a fraud detector model, make sure it is in the same  region and use your specific information to replace the corresponding values below."
   ]
  },
  {
   "cell_type": "code",
   "execution_count": 10,
   "id": "504e50bf",
   "metadata": {},
   "outputs": [
    {
     "data": {
      "image/png": "[encoded data removed]",
      "text/plain": [
       "<Figure size 1000x1000 with 1 Axes>"
      ]
     },
     "metadata": {},
     "output_type": "display_data"
    }
   ],
   "source": [
    "MODEL_NAME = 'insurance_claim'\n",
    "DETECTOR_NAME = 'insurance_fraud_detector'\n",
    "EVENT_TYPE = 'new_claim'\n",
    "ENTITY_TYPE = 'customer'\n",
    "\n",
    "\n",
    "\n",
    "# -- model performance summary -- \n",
    "auc = client.describe_model_versions(\n",
    "    modelId= MODEL_NAME,\n",
    "    modelVersionNumber='1.0',\n",
    "    modelType='ONLINE_FRAUD_INSIGHTS',\n",
    "    maxResults=10\n",
    ")['modelVersionDetails'][0]['trainingResult']['trainingMetrics']['auc']\n",
    "\n",
    "\n",
    "df_model = pd.DataFrame(client.describe_model_versions(\n",
    "    modelId= MODEL_NAME,\n",
    "    modelVersionNumber='1.0',\n",
    "    modelType='ONLINE_FRAUD_INSIGHTS',\n",
    "    maxResults=10\n",
    ")['modelVersionDetails'][0]['trainingResult']['trainingMetrics']['metricDataPoints'])\n",
    "\n",
    "\n",
    "plt.figure(figsize=(10,10))\n",
    "plt.plot(df_model[\"fpr\"], df_model[\"tpr\"], color='darkorange',\n",
    "         lw=2, label='ROC curve (area = %0.3f)' % auc)\n",
    "plt.plot([0, 1], [0, 1], color='navy', lw=2, linestyle='--')\n",
    "plt.xlabel('False Positive Rate')\n",
    "plt.ylabel('True Positive Rate')\n",
    "plt.title( MODEL_NAME + ' ROC Chart')\n",
    "plt.legend(loc=\"lower right\",fontsize=12)\n",
    "plt.axvline(x = 0.02 ,linewidth=2, color='r')\n",
    "plt.axhline(y = 0.73 ,linewidth=2, color='r')\n",
    "plt.show()"
   ]
  },
  {
   "cell_type": "markdown",
   "id": "8c4871de",
   "metadata": {},
   "source": [
    "## Provide Test record"
   ]
  },
  {
   "cell_type": "code",
   "execution_count": 12,
   "id": "2f3d380d",
   "metadata": {},
   "outputs": [],
   "source": [
    "eventId = '668c6044-4949-47f1-abf0-02473c981950'\n",
    "timestampStr = '2022-10-15T08:42:19Z'\n",
    "\n",
    "# Construct a sample data record\n",
    "\n",
    "rec = {\n",
    "   'policy_id': '668c6044-4949-47f1-abf0-02473c981950',\n",
    "   'incident_type': 'collision',\n",
    "   'num_vehicles_involved' : '1',\n",
    "   'num_witnesses' : '3',\n",
    "   'injury_claim' : '6778',\n",
    "   'incident_severity' :'6',\n",
    "   'num_claims_past_year' : '4',\n",
    "   'policy_deductable' :'805',\n",
    "    'policy_annual_premium' :'2526',\n",
    "    'incident_hour' : '12',\n",
    "    'vehicle_claim' : '2673',\n",
    "    'num_injuries' : '3'\n",
    "}\n",
    "\n",
    "\n",
    "\n",
    "pred = client.get_event_prediction(detectorId=DETECTOR_NAME, \n",
    "                                       detectorVersionId='1',\n",
    "                                       eventId = str(eventId),\n",
    "                                       eventTypeName = EVENT_TYPE,\n",
    "                                       eventTimestamp = timestampStr, \n",
    "                                       entities = [{'entityType': ENTITY_TYPE, 'entityId':str(eventId)}],\n",
    "                                       eventVariables=rec)"
   ]
  },
  {
   "cell_type": "code",
   "execution_count": 13,
   "id": "3ebda7d1",
   "metadata": {},
   "outputs": [
    {
     "data": {
      "text/plain": [
       "{'modelScores': [{'modelVersion': {'modelId': 'insurance_claim',\n",
       "    'modelType': 'ONLINE_FRAUD_INSIGHTS',\n",
       "    'modelVersionNumber': '1.0'},\n",
       "   'scores': {'insurance_claim_insightscore': 1000.0}}],\n",
       " 'ruleResults': [{'ruleId': 'auto-fraud-rule', 'outcomes': ['red']}],\n",
       " 'externalModelOutputs': [],\n",
       " 'ResponseMetadata': {'RequestId': '526db278-363c-43d5-8832-f4efcff955d6',\n",
       "  'HTTPStatusCode': 200,\n",
       "  'HTTPHeaders': {'date': 'Wed, 02 Aug 2023 19:17:30 GMT',\n",
       "   'content-type': 'application/x-amz-json-1.1',\n",
       "   'content-length': '266',\n",
       "   'connection': 'keep-alive',\n",
       "   'x-amzn-requestid': '526db278-363c-43d5-8832-f4efcff955d6'},\n",
       "  'RetryAttempts': 0}}"
      ]
     },
     "execution_count": 13,
     "metadata": {},
     "output_type": "execute_result"
    }
   ],
   "source": [
    "pred"
   ]
  },
  {
   "cell_type": "code",
   "execution_count": 15,
   "id": "1dd7a1c1",
   "metadata": {},
   "outputs": [
    {
     "data": {
      "text/plain": [
       "1000.0"
      ]
     },
     "execution_count": 15,
     "metadata": {},
     "output_type": "execute_result"
    }
   ],
   "source": [
    "# Extract/print the model score\n",
    "pred['modelScores'][0]['scores']['insurance_claim_insightscore']"
   ]
  },
  {
   "cell_type": "markdown",
   "id": "4c1a5299",
   "metadata": {},
   "source": [
    "## Create task UI\n",
    "This can be done using the template below and adjusting depending on your use case."
   ]
  },
  {
   "cell_type": "code",
   "execution_count": 16,
   "id": "a4e73026",
   "metadata": {},
   "outputs": [],
   "source": [
    "template=\"\"\"<script src=\"https://assets.crowd.aws/crowd-html-elements.js\"></script>\n",
    "\n",
    "<crowd-form>\n",
    "      <crowd-classifier\n",
    "          name=\"category\"\n",
    "          categories=\"['Fradulent', 'Valid', 'Needs furthur review']\"\n",
    "          header=\"Select the most relevant category\"\n",
    "      >\n",
    "      <classification-target>\n",
    "        <h3><strong>Risk Score (out of 1000): </strong><span style=\"color: #ff9900;\">{{ task.input.score.insurance_claim_insightscore }}</span></h3>\n",
    "        <hr>\n",
    "        <h3> Claim Details </h3>\n",
    "        <p style=\"padding-left: 50px;\"><strong>Policy_id :  </strong>{{ task.input.taskObject.policy_id }}</p>\n",
    "        <p style=\"padding-left: 50px;\"><strong>Incident Type :  </strong>{{ task.input.taskObject.incident_type }}</p>\n",
    "        <p style=\"padding-left: 50px;\"><strong>Number of vehichles involved :  </strong>{{ task.input.taskObject.num_vehichles_involved }}</p>\n",
    "        <p style=\"padding-left: 50px;\"><strong>number of witnesses :  </strong>{{ task.input.taskObject.num_witnesses }}</p>\n",
    "        <p style=\"padding-left: 50px;\"><strong>Injury claim:  </strong>{{ task.input.taskObject.injury_claim }}</p>\n",
    "        <p style=\"padding-left: 50px;\"><strong>Incident severity  :  </strong>{{ task.input.taskObject.incident_severity }}</p>\n",
    "        <p style=\"padding-left: 50px;\"><strong>Number of claims in past year :  </strong>{{ task.input.taskObject.num_claims_past_year }}</p>\n",
    "        <p style=\"padding-left: 50px;\"><strong>Policy deductable  :  </strong>{{ task.input.taskObject.policy_deductable }}</p>\n",
    "        <p style=\"padding-left: 50px;\"><strong>Policy annual premium      :  </strong>{{ task.input.taskObject.policy_annual_premium }}</p>\n",
    "        <p style=\"padding-left: 50px;\"><strong>Incident hour      :  </strong>{{ task.input.taskObject.incident_hour }}</p>\n",
    "        <p style=\"padding-left: 50px;\"><strong>Vehicle claim      :  </strong>{{ task.input.taskObject.vehicle_claim }}</p>\n",
    "        <p style=\"padding-left: 50px;\"><strong>Number of injuries :  </strong>{{ task.input.taskObject.num_injuries }}</p>\n",
    "      </classification-target>\n",
    "      \n",
    "      <full-instructions header=\"Verification instructions\">\n",
    "      <ol>\n",
    "        <li><strong>Review</strong> the claim and documents carefully.</li>\n",
    "        <li>Mark the document as valid/fraudulent or needs furthur review </li>\n",
    "      </ol>\n",
    "      </full-instructions>\n",
    "\n",
    "      <short-instructions>\n",
    "           Choose the most relevant category that is expressed by the text. \n",
    "      </short-instructions>\n",
    "    </crowd-classifier>\n",
    "\n",
    "</crowd-form>\n",
    "\"\"\""
   ]
  },
  {
   "cell_type": "code",
   "execution_count": 17,
   "id": "d413385d",
   "metadata": {},
   "outputs": [],
   "source": [
    "def create_task_ui(task_ui_name, template):\n",
    "    '''\n",
    "    Creates a Human Task UI resource.\n",
    "\n",
    "    Returns:\n",
    "    struct: HumanTaskUiArn\n",
    "    '''\n",
    "    response = sagemaker.create_human_task_ui(\n",
    "        HumanTaskUiName=task_ui_name,\n",
    "        UiTemplate={'Content': template})\n",
    "    return response"
   ]
  },
  {
   "cell_type": "code",
   "execution_count": 14,
   "id": "6f379f85",
   "metadata": {},
   "outputs": [
    {
     "ename": "NameError",
     "evalue": "name 'create_task_ui' is not defined",
     "output_type": "error",
     "traceback": [
      "\u001b[0;31m---------------------------------------------------------------------------\u001b[0m",
      "\u001b[0;31mNameError\u001b[0m                                 Traceback (most recent call last)",
      "Cell \u001b[0;32mIn[14], line 5\u001b[0m\n\u001b[1;32m      2\u001b[0m taskUIName \u001b[38;5;241m=\u001b[39m \u001b[38;5;124m'\u001b[39m\u001b[38;5;124mfraud-claim-ui\u001b[39m\u001b[38;5;124m'\u001b[39m\n\u001b[1;32m      4\u001b[0m \u001b[38;5;66;03m# Create task UI\u001b[39;00m\n\u001b[0;32m----> 5\u001b[0m humanTaskUiResponse \u001b[38;5;241m=\u001b[39m \u001b[43mcreate_task_ui\u001b[49m(taskUIName, template)\n\u001b[1;32m      6\u001b[0m humanTaskUiArn \u001b[38;5;241m=\u001b[39m humanTaskUiResponse[\u001b[38;5;124m'\u001b[39m\u001b[38;5;124mHumanTaskUiArn\u001b[39m\u001b[38;5;124m'\u001b[39m]\n\u001b[1;32m      7\u001b[0m uiArn \u001b[38;5;241m=\u001b[39m \u001b[38;5;124m'\u001b[39m\u001b[38;5;124marn:aws:sagemaker:us-east-2:767819814815:human-task-ui/project-fraud-claim-template\u001b[39m\u001b[38;5;124m'\u001b[39m\n",
      "\u001b[0;31mNameError\u001b[0m: name 'create_task_ui' is not defined"
     ]
    }
   ],
   "source": [
    "# Task UI name - this value is unique per account and region. You can also provide your own value here.\n",
    "taskUIName = 'fraud-claim-ui'\n",
    "\n",
    "# Create task UI\n",
    "humanTaskUiResponse = create_task_ui(taskUIName, template)\n",
    "humanTaskUiArn = humanTaskUiResponse['HumanTaskUiArn']\n",
    "uiArn = 'arn:aws:sagemaker:us-east-2:767819814815:human-task-ui/project-fraud-claim-template'\n",
    "print(humanTaskUiArn)"
   ]
  },
  {
   "cell_type": "markdown",
   "id": "49aeb073",
   "metadata": {},
   "source": [
    "## Create flow defenition"
   ]
  },
  {
   "cell_type": "code",
   "execution_count": 19,
   "id": "46309a10",
   "metadata": {},
   "outputs": [],
   "source": [
    "OUTPUT_PATH = 's3://project-a2i-output/review-results/'\n",
    "uiArn = 'arn:aws:sagemaker:us-east-2:767819814815:human-task-ui/project-fraud-claim-template'\n",
    "\n",
    "def create_flow_definition(flow_definition_name):\n",
    "    '''\n",
    "    Creates a Flow Definition resource\n",
    "\n",
    "    Returns:\n",
    "    struct: FlowDefinitionArn\n",
    "    '''\n",
    "    response = sagemaker.create_flow_definition(\n",
    "            FlowDefinitionName= flow_definition_name,\n",
    "            RoleArn= ROLE,\n",
    "            HumanLoopConfig= {\n",
    "                \"WorkteamArn\": WORKTEAM_ARN,\n",
    "                \"HumanTaskUiArn\": uiArn,\n",
    "                \"TaskCount\": 1,\n",
    "                \"TaskDescription\": \"Please review the  data and flag for potential fraud\",\n",
    "                \"TaskTitle\": \"Review and Approve / Reject Amazon Fraud detector predictions.\"\n",
    "            },\n",
    "            OutputConfig={\n",
    "                \"S3OutputPath\" : OUTPUT_PATH\n",
    "            }\n",
    "        )\n",
    "    \n",
    "    return response['FlowDefinitionArn']"
   ]
  },
  {
   "cell_type": "code",
   "execution_count": 20,
   "id": "b643e0bc",
   "metadata": {},
   "outputs": [
    {
     "name": "stdout",
     "output_type": "stream",
     "text": [
      "arn:aws:sagemaker:us-east-2:767819814815:flow-definition/project-fraud-detector-a2i-demo-1691167733686\n"
     ]
    }
   ],
   "source": [
    "# Flow definition name - this value is unique per account and region. You can also provide your own value here.\n",
    "#uniqueId = str(uuid.uuid4())\n",
    "uniqueId = str(int(round(time.time() * 1000)))\n",
    "flowDefinitionName = f'project-fraud-detector-a2i-demo-{uniqueId}'\n",
    "#flowDefinitionName = 'fraud-detector-a2i' \n",
    "\n",
    "flowDefinitionArn = create_flow_definition(flowDefinitionName)\n",
    "print(flowDefinitionArn)"
   ]
  },
  {
   "cell_type": "markdown",
   "id": "7f9505c4",
   "metadata": {},
   "source": [
    "# Start human loop depending on model score"
   ]
  },
  {
   "cell_type": "code",
   "execution_count": 32,
   "id": "8a7284ca",
   "metadata": {},
   "outputs": [
    {
     "name": "stdout",
     "output_type": "stream",
     "text": [
      "1000.0\n",
      "{\"score\": {\"insurance_claim_insightscore\": 1000.0}, \"taskObject\": {\"policy_id\": \"668c6044-4949-47f1-abf0-02473c981950\", \"incident_type\": \"collision\", \"num_vehicles_involved\": \"1\", \"num_witnesses\": \"3\", \"injury_claim\": \"6778\", \"incident_severity\": \"6\", \"num_claims_past_year\": \"4\", \"policy_deductable\": \"805\", \"policy_annual_premium\": \"2526\", \"incident_hour\": \"12\", \"vehicle_claim\": \"2673\", \"num_injuries\": \"3\"}}\n"
     ]
    }
   ],
   "source": [
    "OUTPUT_PATH = 's3://project-a2i-output/review-results/'\n",
    "\n",
    "FraudScore= pred['modelScores'][0]['scores']['insurance_claim_insightscore']\n",
    "print(FraudScore)\n",
    "\n",
    "SCORE_THRESHOLD = 900\n",
    "if FraudScore > SCORE_THRESHOLD :\n",
    "\n",
    "    # Create the human loop input JSON object\n",
    "    humanLoopInput = {\n",
    "        'score' : pred['modelScores'][0]['scores'],\n",
    "        'taskObject': rec\n",
    "    }\n",
    "\n",
    "print(json.dumps(humanLoopInput))\n"
   ]
  },
  {
   "cell_type": "markdown",
   "id": "c71a7d5d",
   "metadata": {},
   "source": [
    "# Start loop"
   ]
  },
  {
   "cell_type": "code",
   "execution_count": 33,
   "id": "a8799913",
   "metadata": {},
   "outputs": [
    {
     "name": "stdout",
     "output_type": "stream",
     "text": [
      "Starting human loop - Fraud-detector-1691073816853\n"
     ]
    }
   ],
   "source": [
    "humanLoopName = 'Fraud-detector-' + str(int(round(time.time() * 1000)))\n",
    "print('Starting human loop - ' + humanLoopName)\n",
    "\n",
    "response = a2i_runtime_client.start_human_loop(\n",
    "                            HumanLoopName=humanLoopName,\n",
    "                            FlowDefinitionArn= flowDefinitionArn,\n",
    "                            HumanLoopInput={\n",
    "                                'InputContent': json.dumps(humanLoopInput)\n",
    "                                }\n",
    "                            )"
   ]
  },
  {
   "cell_type": "markdown",
   "id": "8b62a7b4",
   "metadata": {},
   "source": [
    "# Check status"
   ]
  },
  {
   "cell_type": "code",
   "execution_count": 34,
   "id": "92efd92f",
   "metadata": {},
   "outputs": [
    {
     "name": "stdout",
     "output_type": "stream",
     "text": [
      "\n",
      "Human Loop Name: Fraud-detector-1691073816853\n",
      "Human Loop Status: InProgress \n",
      "\n",
      "\n",
      "\n",
      "\n",
      "Human Loop Name: Fraud-detector-1691010426620\n",
      "Human Loop Status: Completed \n",
      "\n",
      "\n",
      "\n"
     ]
    }
   ],
   "source": [
    "all_human_loops_in_workflow = a2i_runtime_client.list_human_loops(FlowDefinitionArn=flowDefinitionArn)['HumanLoopSummaries']\n",
    "\n",
    "for human_loop in all_human_loops_in_workflow:\n",
    "    print(f'\\nHuman Loop Name: {human_loop[\"HumanLoopName\"]}')\n",
    "    print(f'Human Loop Status: {human_loop[\"HumanLoopStatus\"]} \\n')\n",
    "    print('\\n')"
   ]
  },
  {
   "cell_type": "code",
   "execution_count": null,
   "id": "e3ef08d3",
   "metadata": {},
   "outputs": [],
   "source": []
  }
 ],
 "metadata": {
  "kernelspec": {
   "display_name": "conda_python3",
   "language": "python",
   "name": "conda_python3"
  },
  "language_info": {
   "codemirror_mode": {
    "name": "ipython",
    "version": 3
   },
   "file_extension": ".py",
   "mimetype": "text/x-python",
   "name": "python",
   "nbconvert_exporter": "python",
   "pygments_lexer": "ipython3",
   "version": "3.10.10"
  }
 },
 "nbformat": 4,
 "nbformat_minor": 5
}
